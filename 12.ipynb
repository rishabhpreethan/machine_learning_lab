{
 "cells": [
  {
   "cell_type": "code",
   "execution_count": 2,
   "metadata": {},
   "outputs": [],
   "source": [
    "import numpy as np\n",
    "gamma=0.75\n",
    "alpha=0.9"
   ]
  },
  {
   "cell_type": "code",
   "execution_count": 3,
   "metadata": {},
   "outputs": [],
   "source": [
    "location_to_state={\n",
    "    'L1':0,\n",
    "    'L2':1,\n",
    "    'L3':2,\n",
    "    'L4':3,\n",
    "    'L5':4,\n",
    "    'L6':5,\n",
    "    'L7':6,\n",
    "    'L8':7,\n",
    "    'L9':8,\n",
    "}"
   ]
  },
  {
   "cell_type": "code",
   "execution_count": 4,
   "metadata": {},
   "outputs": [],
   "source": [
    "actions=[0,1,2,3,4,5,6,7,8]"
   ]
  },
  {
   "cell_type": "code",
   "execution_count": 6,
   "metadata": {},
   "outputs": [],
   "source": [
    "rewards=np.array([[0,1,0,0,0,0,0,0,0],\n",
    "                 [1,0,1,0,0,0,0,0,0],\n",
    "                 [0,1,0,0,0,1,0,0,0],\n",
    "                 [0,0,0,0,0,0,1,0,0],\n",
    "                 [0,1,0,0,0,0,0,1,0],\n",
    "                 [0,0,1,0,0,0,0,0,0],\n",
    "                 [0,0,0,1,0,0,0,1,0],\n",
    "                 [0,0,0,0,1,0,1,0,1],\n",
    "                 [0,0,0,0,0,0,0,1,0]])"
   ]
  },
  {
   "cell_type": "code",
   "execution_count": 8,
   "metadata": {},
   "outputs": [],
   "source": [
    "s=dict((state,location) for location,state in location_to_state.items())"
   ]
  },
  {
   "cell_type": "code",
   "execution_count": 35,
   "metadata": {},
   "outputs": [],
   "source": [
    "def get_optimal_route(start_location,end_location):\n",
    "    rewards_new = np.copy(rewards)\n",
    "    ending_state = location_to_state[end_location]\n",
    "    rewards_new[ending_state,ending_state]=999\n",
    "    Q=np.array(np.zeros([9,9]))\n",
    "    for i in range(1000):\n",
    "        current_state = np.random.randint(0,9)\n",
    "        playable_actions=[]\n",
    "        for j in range(9):\n",
    "            if rewards_new[current_state,j]>0:\n",
    "                playable_actions.append(j)\n",
    "        next_state=np.random.choice(playable_actions)\n",
    "        TD= rewards_new[current_state,next_state]+gamma*Q[next_state, np.argmax(Q[next_state,])]-Q[current_state,next_state] \n",
    "        Q[current_state, next_state]+=alpha*TD\n",
    "    route = [start_location]\n",
    "    next_location = start_location\n",
    "    while (next_location!=end_location):\n",
    "        starting_state = location_to_state[start_location]\n",
    "        next_state = np.argmax(Q[starting_state,])\n",
    "        next_location =s[next_state]\n",
    "        route. append(next_location)\n",
    "        start_location =next_location\n",
    "    return route\n"
   ]
  },
  {
   "cell_type": "code",
   "execution_count": 36,
   "metadata": {},
   "outputs": [
    {
     "name": "stdout",
     "output_type": "stream",
     "text": [
      "['L9', 'L8', 'L5', 'L2', 'L1']\n"
     ]
    }
   ],
   "source": [
    "print(get_optimal_route('L9','L1'))"
   ]
  },
  {
   "cell_type": "code",
   "execution_count": null,
   "metadata": {},
   "outputs": [],
   "source": []
  }
 ],
 "metadata": {
  "kernelspec": {
   "display_name": "Python 3",
   "language": "python",
   "name": "python3"
  },
  "language_info": {
   "codemirror_mode": {
    "name": "ipython",
    "version": 3
   },
   "file_extension": ".py",
   "mimetype": "text/x-python",
   "name": "python",
   "nbconvert_exporter": "python",
   "pygments_lexer": "ipython3",
   "version": "3.8.5"
  }
 },
 "nbformat": 4,
 "nbformat_minor": 4
}
